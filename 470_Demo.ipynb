{
 "cells": [
  {
   "cell_type": "code",
   "execution_count": 1,
   "id": "079fe1ea",
   "metadata": {},
   "outputs": [],
   "source": [
    "#Import Statements\n",
    "\n",
    "#3rd Party imports\n",
    "import numpy as np\n",
    "from mido import MidiFile\n",
    "from hmmlearn import hmm\n",
    "import re\n",
    "import os\n",
    "import pickle\n",
    "\n",
    "import constants  #.py document containing constants w/ directory info\n",
    "import functions #.py document containing functions for this project"
   ]
  },
  {
   "cell_type": "code",
   "execution_count": 2,
   "id": "23d40ddd",
   "metadata": {},
   "outputs": [],
   "source": [
    "#Bring the .91 HMM's into this notebook with Pickle\n",
    "\n",
    "with open(constants.PICKLE_91_TONAL, \"rb\") as file:\n",
    "    tonal_hmm = pickle.load(file)\n",
    "with open(constants.PICKLE_91_ATONAL, \"rb\") as file:\n",
    "    atonal_hmm = pickle.load(file)"
   ]
  },
  {
   "cell_type": "code",
   "execution_count": 3,
   "id": "c6ce4208",
   "metadata": {},
   "outputs": [
    {
     "name": "stdout",
     "output_type": "stream",
     "text": [
      "Scoring...\n",
      "\n",
      "Tonality:\n",
      "Correct:  91\n",
      "Inorrect:  9\n",
      "Score: 0.91\n"
     ]
    },
    {
     "data": {
      "text/plain": [
       "0.91"
      ]
     },
     "execution_count": 3,
     "metadata": {},
     "output_type": "execute_result"
    }
   ],
   "source": [
    "#Score the models based on the defined folders containing the tonal and atonal MIDI\n",
    "#     test files. Defined in constants.py\n",
    "\n",
    "functions.score(tonal_hmm, atonal_hmm, verbose=True)"
   ]
  },
  {
   "cell_type": "code",
   "execution_count": 4,
   "id": "0d4a408a",
   "metadata": {},
   "outputs": [],
   "source": [
    "#As evidenced by the score above, the models (when competing with each other) are correct 91% of the time\n",
    "# in the test data.\n",
    "\n",
    "#This score indicates to me that there is an observable relationship within MIDI files that determines tonality.\n"
   ]
  },
  {
   "cell_type": "code",
   "execution_count": null,
   "id": "f246c69b",
   "metadata": {},
   "outputs": [],
   "source": []
  }
 ],
 "metadata": {
  "kernelspec": {
   "display_name": "Python 3",
   "language": "python",
   "name": "python3"
  },
  "language_info": {
   "codemirror_mode": {
    "name": "ipython",
    "version": 3
   },
   "file_extension": ".py",
   "mimetype": "text/x-python",
   "name": "python",
   "nbconvert_exporter": "python",
   "pygments_lexer": "ipython3",
   "version": "3.8.8"
  }
 },
 "nbformat": 4,
 "nbformat_minor": 5
}
